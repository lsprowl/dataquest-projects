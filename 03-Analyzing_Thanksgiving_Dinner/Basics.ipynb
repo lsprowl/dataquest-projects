{
 "cells": [
  {
   "cell_type": "code",
   "execution_count": 161,
   "metadata": {
    "collapsed": false
   },
   "outputs": [
    {
     "name": "stdout",
     "output_type": "stream",
     "text": [
      "Index(['RespondentID', 'Do you celebrate Thanksgiving?',\n",
      "       'What is typically the main dish at your Thanksgiving dinner?',\n",
      "       'What is typically the main dish at your Thanksgiving dinner? - Other (please specify)',\n",
      "       'How is the main dish typically cooked?',\n",
      "       'How is the main dish typically cooked? - Other (please specify)',\n",
      "       'What kind of stuffing/dressing do you typically have?',\n",
      "       'What kind of stuffing/dressing do you typically have? - Other (please specify)',\n",
      "       'What type of cranberry saucedo you typically have?',\n",
      "       'What type of cranberry saucedo you typically have? - Other (please specify)',\n",
      "       'Do you typically have gravy?',\n",
      "       'Which of these side dishes aretypically served at your Thanksgiving dinner? Please select all that apply. - Brussel sprouts',\n",
      "       'Which of these side dishes aretypically served at your Thanksgiving dinner? Please select all that apply. - Carrots',\n",
      "       'Which of these side dishes aretypically served at your Thanksgiving dinner? Please select all that apply. - Cauliflower',\n",
      "       'Which of these side dishes aretypically served at your Thanksgiving dinner? Please select all that apply. - Corn',\n",
      "       'Which of these side dishes aretypically served at your Thanksgiving dinner? Please select all that apply. - Cornbread',\n",
      "       'Which of these side dishes aretypically served at your Thanksgiving dinner? Please select all that apply. - Fruit salad',\n",
      "       'Which of these side dishes aretypically served at your Thanksgiving dinner? Please select all that apply. - Green beans/green bean casserole',\n",
      "       'Which of these side dishes aretypically served at your Thanksgiving dinner? Please select all that apply. - Macaroni and cheese',\n",
      "       'Which of these side dishes aretypically served at your Thanksgiving dinner? Please select all that apply. - Mashed potatoes',\n",
      "       'Which of these side dishes aretypically served at your Thanksgiving dinner? Please select all that apply. - Rolls/biscuits',\n",
      "       'Which of these side dishes aretypically served at your Thanksgiving dinner? Please select all that apply. - Squash',\n",
      "       'Which of these side dishes aretypically served at your Thanksgiving dinner? Please select all that apply. - Vegetable salad',\n",
      "       'Which of these side dishes aretypically served at your Thanksgiving dinner? Please select all that apply. - Yams/sweet potato casserole',\n",
      "       'Which of these side dishes aretypically served at your Thanksgiving dinner? Please select all that apply. - Other (please specify)',\n",
      "       'Which of these side dishes aretypically served at your Thanksgiving dinner? Please select all that apply. - Other (please specify).1',\n",
      "       'Which type of pie is typically served at your Thanksgiving dinner? Please select all that apply. - Apple',\n",
      "       'Which type of pie is typically served at your Thanksgiving dinner? Please select all that apply. - Buttermilk',\n",
      "       'Which type of pie is typically served at your Thanksgiving dinner? Please select all that apply. - Cherry',\n",
      "       'Which type of pie is typically served at your Thanksgiving dinner? Please select all that apply. - Chocolate',\n",
      "       'Which type of pie is typically served at your Thanksgiving dinner? Please select all that apply. - Coconut cream',\n",
      "       'Which type of pie is typically served at your Thanksgiving dinner? Please select all that apply. - Key lime',\n",
      "       'Which type of pie is typically served at your Thanksgiving dinner? Please select all that apply. - Peach',\n",
      "       'Which type of pie is typically served at your Thanksgiving dinner? Please select all that apply. - Pecan',\n",
      "       'Which type of pie is typically served at your Thanksgiving dinner? Please select all that apply. - Pumpkin',\n",
      "       'Which type of pie is typically served at your Thanksgiving dinner? Please select all that apply. - Sweet Potato',\n",
      "       'Which type of pie is typically served at your Thanksgiving dinner? Please select all that apply. - None',\n",
      "       'Which type of pie is typically served at your Thanksgiving dinner? Please select all that apply. - Other (please specify)',\n",
      "       'Which type of pie is typically served at your Thanksgiving dinner? Please select all that apply. - Other (please specify).1',\n",
      "       'Which of these desserts do you typically have at Thanksgiving dinner? Please select all that apply.   - Apple cobbler',\n",
      "       'Which of these desserts do you typically have at Thanksgiving dinner? Please select all that apply.   - Blondies',\n",
      "       'Which of these desserts do you typically have at Thanksgiving dinner? Please select all that apply.   - Brownies',\n",
      "       'Which of these desserts do you typically have at Thanksgiving dinner? Please select all that apply.   - Carrot cake',\n",
      "       'Which of these desserts do you typically have at Thanksgiving dinner? Please select all that apply.   - Cheesecake',\n",
      "       'Which of these desserts do you typically have at Thanksgiving dinner? Please select all that apply.   - Cookies',\n",
      "       'Which of these desserts do you typically have at Thanksgiving dinner? Please select all that apply.   - Fudge',\n",
      "       'Which of these desserts do you typically have at Thanksgiving dinner? Please select all that apply.   - Ice cream',\n",
      "       'Which of these desserts do you typically have at Thanksgiving dinner? Please select all that apply.   - Peach cobbler',\n",
      "       'Which of these desserts do you typically have at Thanksgiving dinner? Please select all that apply.   - None',\n",
      "       'Which of these desserts do you typically have at Thanksgiving dinner? Please select all that apply.   - Other (please specify)',\n",
      "       'Which of these desserts do you typically have at Thanksgiving dinner? Please select all that apply.   - Other (please specify).1',\n",
      "       'Do you typically pray before or after the Thanksgiving meal?',\n",
      "       'How far will you travel for Thanksgiving?',\n",
      "       'Will you watch any of the following programs on Thanksgiving? Please select all that apply. - Macy's Parade',\n",
      "       'What's the age cutoff at your \"kids' table\" at Thanksgiving?',\n",
      "       'Have you ever tried to meet up with hometown friends on Thanksgiving night?',\n",
      "       'Have you ever attended a \"Friendsgiving?\"',\n",
      "       'Will you shop any Black Friday sales on Thanksgiving Day?',\n",
      "       'Do you work in retail?',\n",
      "       'Will you employer make you work on Black Friday?',\n",
      "       'How would you describe where you live?', 'Age', 'What is your gender?',\n",
      "       'How much total combined money did all members of your HOUSEHOLD earn last year?',\n",
      "       'US Region'],\n",
      "      dtype='object')\n"
     ]
    }
   ],
   "source": [
    "import pandas as pd\n",
    "\n",
    "data = pd.read_csv('thanksgiving.csv',encoding=\"Latin-1\")\n",
    "print(data.columns)"
   ]
  },
  {
   "cell_type": "code",
   "execution_count": 162,
   "metadata": {
    "collapsed": false
   },
   "outputs": [
    {
     "name": "stdout",
     "output_type": "stream",
     "text": [
      "Yes    980\n",
      "No      78\n",
      "Name: Do you celebrate Thanksgiving?, dtype: int64\n"
     ]
    }
   ],
   "source": [
    "print(data[\"Do you celebrate Thanksgiving?\"].value_counts())\n",
    "data = data[data[\"Do you celebrate Thanksgiving?\"] == \"Yes\" ]"
   ]
  },
  {
   "cell_type": "code",
   "execution_count": 163,
   "metadata": {
    "collapsed": false
   },
   "outputs": [
    {
     "name": "stdout",
     "output_type": "stream",
     "text": [
      "Turkey                    859\n",
      "Other (please specify)     35\n",
      "Ham/Pork                   29\n",
      "Tofurkey                   20\n",
      "Chicken                    12\n",
      "Roast beef                 11\n",
      "I don't know                5\n",
      "Turducken                   3\n",
      "Name: What is typically the main dish at your Thanksgiving dinner?, dtype: int64\n",
      "Prime Rib                                                                                2\n",
      "Turkey and Ham                                                                           2\n",
      "seafood                                                                                  2\n",
      "A turkey and a ham. Always.                                                              1\n",
      "Turkey & Ham or Seafood Hotdish (a secret family recipe).                                1\n",
      "Duck                                                                                     1\n",
      "prime rib                                                                                1\n",
      "Varies                                                                                   1\n",
      "Turkey and Vegetarian Turkey                                                             1\n",
      "some kind of lentil or vegetable stew                                                    1\n",
      "alternate turkey & ham                                                                   1\n",
      "It varies, ham or turkey or boston butt                                                  1\n",
      "Both turkey and a vegetarian nut loaf                                                    1\n",
      "always different                                                                         1\n",
      "fish                                                                                     1\n",
      "goose                                                                                    1\n",
      "Homemade vegan entree                                                                    1\n",
      "Lentil Loaf                                                                              1\n",
      "gumbo                                                                                    1\n",
      "Chicken Dressing                                                                         1\n",
      "No predictable main dish                                                                 1\n",
      "A wild game bird which changes every year.                                               1\n",
      "This year we are having baked lasagna, diff every year                                   1\n",
      "steak                                                                                    1\n",
      "Restaurant with various choices.                                                         1\n",
      "Varies significantly by year as one group of people we tend to be with are vegetarian    1\n",
      "changes every year                                                                       1\n",
      "salmon                                                                                   1\n",
      "head cheese                                                                              1\n",
      "Venison                                                                                  1\n",
      "turkey, ham. vegetarian for me.                                                          1\n",
      "Steak                                                                                    1\n",
      "Name: What is typically the main dish at your Thanksgiving dinner? - Other (please specify), dtype: int64\n"
     ]
    }
   ],
   "source": [
    "print(data[\"What is typically the main dish at your Thanksgiving dinner?\"].value_counts())\n",
    "print(data[\"What is typically the main dish at your Thanksgiving dinner? - Other (please specify)\"].value_counts())"
   ]
  },
  {
   "cell_type": "code",
   "execution_count": 164,
   "metadata": {
    "collapsed": false
   },
   "outputs": [
    {
     "name": "stdout",
     "output_type": "stream",
     "text": [
      "4      Yes\n",
      "33     Yes\n",
      "69      No\n",
      "72      No\n",
      "77     Yes\n",
      "145    Yes\n",
      "175    Yes\n",
      "218     No\n",
      "243    Yes\n",
      "275     No\n",
      "393    Yes\n",
      "399    Yes\n",
      "571    Yes\n",
      "594    Yes\n",
      "628     No\n",
      "774     No\n",
      "820     No\n",
      "837    Yes\n",
      "860     No\n",
      "953    Yes\n",
      "Name: Do you typically have gravy?, dtype: object\n"
     ]
    }
   ],
   "source": [
    "print(data[data[\"What is typically the main dish at your Thanksgiving dinner?\"] == \"Tofurkey\"][\"Do you typically have gravy?\"])"
   ]
  },
  {
   "cell_type": "code",
   "execution_count": 165,
   "metadata": {
    "collapsed": false
   },
   "outputs": [
    {
     "name": "stdout",
     "output_type": "stream",
     "text": [
      "True     876\n",
      "False    104\n",
      "dtype: int64\n"
     ]
    }
   ],
   "source": [
    "apple_isnull = data[\"Which type of pie is typically served at your Thanksgiving dinner? Please select all that apply. - Apple\"].isnull()\n",
    "pumpkin_isnull = data[\"Which type of pie is typically served at your Thanksgiving dinner? Please select all that apply. - Pumpkin\"].isnull()\n",
    "pecan_isnull = data[\"Which type of pie is typically served at your Thanksgiving dinner? Please select all that apply. - Pecan\"].isnull()\n",
    "didnt_eat_common_pies = apple_isnull & pumpkin_isnull & pecan_isnull\n",
    "ate_common_pies = -didnt_eat_common_pies\n",
    "print(ate_common_pies.value_counts())"
   ]
  },
  {
   "cell_type": "code",
   "execution_count": 166,
   "metadata": {
    "collapsed": false
   },
   "outputs": [
    {
     "name": "stdout",
     "output_type": "stream",
     "text": [
      "{'Mashed potatoes': 817, 'Carrots': 242, 'Corn': 464, 'Green beans/green bean casserole': 686, 'Cornbread': 235, 'Squash': 171, 'Cauliflower': 88, 'Rolls/biscuits': 766, 'Macaroni and cheese': 206, 'Brussel sprouts': 155, 'Fruit salad': 215, 'Vegetable salad': 209}\n",
      "{'Chocolate': 133, 'Cherry': 113, 'Coconut cream': 36, 'Key lime': 39, 'Peach': 34, 'Buttermilk': 35, 'Apple': 514, 'Pumpkin': 729, 'Pecan': 342}\n",
      "{'Blondies': 16, 'Brownies': 128, 'Carrot cake': 72, 'Apple cobbler': 110, 'Cheesecake': 191, 'Ice cream': 266, 'Cookies': 204, 'Fudge': 43}\n"
     ]
    }
   ],
   "source": [
    "sides = data.iloc[:,11:23]\n",
    "pies = data.iloc[:,26:35]\n",
    "desserts = data.iloc[:,39:47]\n",
    "\n",
    "def count_items(df):\n",
    "    \"\"\" input = DataFrame containing columns of different foods\n",
    "        function counts how many of each type of food is present\n",
    "        return = dictionary with { food : count }\"\"\"\n",
    "    keys = []\n",
    "    counts = []\n",
    "    for column in df.columns:\n",
    "        keys += df[column].value_counts().keys().tolist()\n",
    "        counts += df[column].value_counts().tolist()\n",
    "    count_dict = dict(zip(keys,counts))\n",
    "    return count_dict\n",
    "    \n",
    "print(count_items(sides))\n",
    "print(count_items(pies))\n",
    "print(count_items(desserts))"
   ]
  },
  {
   "cell_type": "code",
   "execution_count": 167,
   "metadata": {
    "collapsed": false
   },
   "outputs": [
    {
     "name": "stdout",
     "output_type": "stream",
     "text": [
      "count    947.000000\n",
      "mean      40.089757\n",
      "std       15.352014\n",
      "min       18.000000\n",
      "25%       30.000000\n",
      "50%       45.000000\n",
      "75%       60.000000\n",
      "max       60.000000\n",
      "Name: int_age, dtype: float64\n"
     ]
    }
   ],
   "source": [
    "def clean_age(age):\n",
    "    \"\"\" input = value from the 'Age' column\n",
    "        function converts age into a single integer if a number range is given\n",
    "        return = integer age or None \"\"\"\n",
    "    if pd.isnull(age): return None\n",
    "    return int(age.split(' ')[0].replace('+',''))\n",
    "\n",
    "data[\"int_age\"] = data[\"Age\"].apply(clean_age)\n",
    "print(data[\"int_age\"].describe())"
   ]
  },
  {
   "cell_type": "code",
   "execution_count": 168,
   "metadata": {
    "collapsed": false
   },
   "outputs": [
    {
     "name": "stdout",
     "output_type": "stream",
     "text": [
      "count       829.000000\n",
      "mean      75965.018094\n",
      "std       59068.636748\n",
      "min           0.000000\n",
      "25%       25000.000000\n",
      "50%       75000.000000\n",
      "75%      100000.000000\n",
      "max      200000.000000\n",
      "Name: int_income, dtype: float64\n"
     ]
    }
   ],
   "source": [
    "def clean_income(income):\n",
    "    \"\"\" input = value from the column asking about income\n",
    "        function converts income into a single integer if a number range is given\n",
    "        return = integer income or None \"\"\"\n",
    "    if pd.isnull(income): return None\n",
    "    income = income.split(' ')[0]\n",
    "    if income == \"Prefer\": return None\n",
    "    return int(income.replace('$','').replace(',',''))\n",
    "\n",
    "data[\"int_income\"] = data[\"How much total combined money did all members of your HOUSEHOLD earn last year?\"].apply(clean_income)\n",
    "print(data[\"int_income\"].describe())"
   ]
  },
  {
   "cell_type": "code",
   "execution_count": 169,
   "metadata": {
    "collapsed": false,
    "scrolled": false
   },
   "outputs": [
    {
     "name": "stdout",
     "output_type": "stream",
     "text": [
      "Thanksgiving is happening at my home--I won't travel at all                         0.362963\n",
      "Thanksgiving is local--it will take place in the town I live in                     0.340741\n",
      "Thanksgiving is out of town but not too far--it's a drive of a few hours or less    0.232099\n",
      "Thanksgiving is out of town and far away--I have to drive several hours or fly      0.064198\n",
      "Name: How far will you travel for Thanksgiving?, dtype: float64\n",
      "Thanksgiving is happening at my home--I won't travel at all                         0.471698\n",
      "Thanksgiving is local--it will take place in the town I live in                     0.233491\n",
      "Thanksgiving is out of town but not too far--it's a drive of a few hours or less    0.191038\n",
      "Thanksgiving is out of town and far away--I have to drive several hours or fly      0.103774\n",
      "Name: How far will you travel for Thanksgiving?, dtype: float64\n"
     ]
    }
   ],
   "source": [
    "under_75k_travel = data[data[\"int_income\"] < 75000][\"How far will you travel for Thanksgiving?\"].value_counts(normalize=True)\n",
    "over_75k_travel = data[data[\"int_income\"] >= 75000][\"How far will you travel for Thanksgiving?\"].value_counts(normalize=True)\n",
    "\n",
    "print(under_75k_travel)\n",
    "print(over_75k_travel)"
   ]
  },
  {
   "cell_type": "code",
   "execution_count": 170,
   "metadata": {
    "collapsed": false
   },
   "outputs": [
    {
     "name": "stdout",
     "output_type": "stream",
     "text": [
      "Thanksgiving is happening at my home--I won't travel at all                         0.318919\n",
      "Thanksgiving is out of town but not too far--it's a drive of a few hours or less    0.302703\n",
      "Thanksgiving is local--it will take place in the town I live in                     0.297297\n",
      "Thanksgiving is out of town and far away--I have to drive several hours or fly      0.081081\n",
      "Name: How far will you travel for Thanksgiving?, dtype: float64\n",
      "Thanksgiving is happening at my home--I won't travel at all                         0.439633\n",
      "Thanksgiving is local--it will take place in the town I live in                     0.288714\n",
      "Thanksgiving is out of town but not too far--it's a drive of a few hours or less    0.183727\n",
      "Thanksgiving is out of town and far away--I have to drive several hours or fly      0.087927\n",
      "Name: How far will you travel for Thanksgiving?, dtype: float64\n"
     ]
    }
   ],
   "source": [
    "under_30_travel = data[data[\"int_age\"] < 30][\"How far will you travel for Thanksgiving?\"].value_counts(normalize=True)\n",
    "over_30_travel = data[data[\"int_age\"] >= 30][\"How far will you travel for Thanksgiving?\"].value_counts(normalize=True)\n",
    "\n",
    "print(under_30_travel)\n",
    "print(over_30_travel)"
   ]
  },
  {
   "cell_type": "code",
   "execution_count": 171,
   "metadata": {
    "collapsed": false
   },
   "outputs": [
    {
     "name": "stdout",
     "output_type": "stream",
     "text": [
      "Have you ever attended a \"Friendsgiving?\"                  No        Yes\n",
      "Have you ever tried to meet up with hometown fr...                      \n",
      "No                                                  42.283702  37.010526\n",
      "Yes                                                 41.475410  33.976744\n",
      "Have you ever attended a \"Friendsgiving?\"                     No           Yes\n",
      "Have you ever tried to meet up with hometown fr...                            \n",
      "No                                                  78914.549654  72894.736842\n",
      "Yes                                                 78750.000000  66019.736842\n"
     ]
    }
   ],
   "source": [
    "index=\"Have you ever tried to meet up with hometown friends on Thanksgiving night?\"\n",
    "columns='Have you ever attended a \"Friendsgiving?\"'\n",
    "print(data.pivot_table(index=index, columns=columns, values=\"int_age\"))\n",
    "print(data.pivot_table(index=index, columns=columns, values=\"int_income\"))"
   ]
  },
  {
   "cell_type": "markdown",
   "metadata": {},
   "source": [
    "# Conclusions\n",
    "\n",
    "The main Thanksgiving dish is overwhelmingly turkey. The main side dish is mashed potatoes, followed by rolls/biscuits and green beans/green bean casserole. The main dessert is pumpkin pie, followed by apple pie and then pecan pie. Ice cream is the most common dessert that is not pie, likely because it goes with the pie.\n",
    "\n",
    "People are least likely to have Thanksgiving at their own home if their household income is \\$50,000 - \\$74,999 and are most likely to host Thanksgiving if their household income is \\$200,000 and up. The older a person is, the more likely they are to have Thanksgiving dinner in their own home, which probably correlates with their household income. Younger people and people in households with less money are more likely to have a \"Friendsgiving\"."
   ]
  }
 ],
 "metadata": {
  "kernelspec": {
   "display_name": "Python 3",
   "language": "python",
   "name": "python3"
  },
  "language_info": {
   "codemirror_mode": {
    "name": "ipython",
    "version": 3
   },
   "file_extension": ".py",
   "mimetype": "text/x-python",
   "name": "python",
   "nbconvert_exporter": "python",
   "pygments_lexer": "ipython3",
   "version": "3.4.3"
  }
 },
 "nbformat": 4,
 "nbformat_minor": 0
}
