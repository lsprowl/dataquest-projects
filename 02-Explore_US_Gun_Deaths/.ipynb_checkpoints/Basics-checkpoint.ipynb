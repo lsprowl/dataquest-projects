{
 "cells": [
  {
   "cell_type": "code",
   "execution_count": 34,
   "metadata": {
    "collapsed": false
   },
   "outputs": [
    {
     "name": "stdout",
     "output_type": "stream",
     "text": [
      "['', 'year', 'month', 'intent', 'police', 'sex', 'age', 'race', 'hispanic', 'place', 'education']\n",
      "[['1', '2012', '01', 'Suicide', '0', 'M', '34', 'Asian/Pacific Islander', '100', 'Home', '4'], ['2', '2012', '01', 'Suicide', '0', 'F', '21', 'White', '100', 'Street', '3'], ['3', '2012', '01', 'Suicide', '0', 'M', '60', 'White', '100', 'Other specified', '4'], ['4', '2012', '02', 'Suicide', '0', 'M', '64', 'White', '100', 'Home', '4'], ['5', '2012', '02', 'Suicide', '0', 'M', '31', 'White', '100', 'Other specified', '2']]\n"
     ]
    }
   ],
   "source": [
    "import csv\n",
    "\n",
    "data = list(csv.reader(open('guns.csv')))\n",
    "headers = data[0]\n",
    "data = data[1:]\n",
    "print(headers)\n",
    "print(data[:5])"
   ]
  },
  {
   "cell_type": "code",
   "execution_count": 35,
   "metadata": {
    "collapsed": false
   },
   "outputs": [
    {
     "name": "stdout",
     "output_type": "stream",
     "text": [
      "[datetime.datetime(2012, 1, 1, 0, 0), datetime.datetime(2012, 1, 1, 0, 0), datetime.datetime(2012, 1, 1, 0, 0), datetime.datetime(2012, 2, 1, 0, 0), datetime.datetime(2012, 2, 1, 0, 0)]\n"
     ]
    }
   ],
   "source": [
    "import datetime\n",
    "\n",
    "dates = [datetime.datetime(year=int(row[1]),month=int(row[2]),day=1) for row in data]\n",
    "\n",
    "def get_column_values(data,column):\n",
    "    \"\"\" input = list of lists with\n",
    "            [index,year,month,intent,police,sex,age,race,hispanic,place,education],\n",
    "            column number\n",
    "        function extracts all elements from input column number\n",
    "        return = list of values from input column \"\"\"\n",
    "    return [row[column] for row in data]\n",
    "\n",
    "years = get_column_values(data,1)\n",
    "months = get_column_values(data,2)\n",
    "intents = get_column_values(data,3)\n",
    "polices = get_column_values(data,4)\n",
    "sexes = get_column_values(data,5)\n",
    "ages = get_column_values(data,6)\n",
    "races = get_column_values(data,7)\n",
    "hispanics = get_column_values(data,8)\n",
    "places = get_column_values(data,9)\n",
    "educations = get_column_values(data,10)\n",
    "\n",
    "print(dates[:5])"
   ]
  },
  {
   "cell_type": "code",
   "execution_count": 36,
   "metadata": {
    "collapsed": false
   },
   "outputs": [
    {
     "name": "stdout",
     "output_type": "stream",
     "text": [
      "{'2012': 33563, '2014': 33599, '2013': 33636}\n",
      "{'02': 7093, '12': 8413, '10': 8406, '01': 8273, '06': 8677, '05': 8669, '04': 8455, '11': 8243, '03': 8289, '08': 8783, '07': 8989, '09': 8508}\n",
      "{'Suicide': 63175, 'NA': 1, 'Undetermined': 807, 'Accidental': 1639, 'Homicide': 35176}\n",
      "{'M': 86349, 'F': 14449}\n",
      "{'38': 1491, '34': 1699, '62': 1099, '36': 1512, '51': 1755, '27': 2070, '91': 176, '1': 38, '6': 50, '98': 16, '82': 520, '49': 1669, '67': 865, '44': 1449, '80': 546, '61': 1306, '99': 6, '79': 573, '94': 64, '39': 1389, '66': 998, '46': 1437, '95': 55, '22': 2712, '72': 736, '3': 66, '33': 1700, '63': 1041, '25': 2230, '20': 2219, '107': 1, '96': 40, '75': 676, '4': 54, '35': 1631, '58': 1510, '43': 1527, '60': 1361, '32': 1824, '31': 1833, '76': 582, '87': 312, '7': 43, '90': 208, '81': 563, '30': 1869, '2': 50, '89': 245, '16': 864, '70': 883, '78': 598, '11': 61, '88': 340, '24': 2437, '56': 1625, '40': 1414, '9': 47, '42': 1492, '17': 1185, '57': 1472, '8': 32, '47': 1532, '45': 1372, '92': 128, '55': 1596, '53': 1708, '29': 1955, '54': 1684, '18': 1753, '50': 1674, '100': 1, '48': 1621, '14': 364, '21': 2504, '28': 1986, '101': 2, '85': 440, '65': 1039, '37': 1500, '0': 33, '71': 791, '12': 117, '59': 1430, '86': 407, '84': 490, '19': 2065, '23': 2472, '74': 671, '77': 575, 'NA': 18, '64': 1126, '26': 2231, '83': 552, '102': 2, '41': 1485, '68': 868, '10': 53, '73': 737, '93': 103, '69': 879, '5': 43, '52': 1715, '97': 20, '15': 561, '13': 229}\n",
      "{'Black': 23296, 'Asian/Pacific Islander': 1326, 'White': 66237, 'Native American/Native Alaskan': 917, 'Hispanic': 9022}\n"
     ]
    }
   ],
   "source": [
    "def death_counts(input_list):\n",
    "    \"\"\" input = list\n",
    "        function counts how many times each unique key occurs in the list\n",
    "        return = dictionary with { key : number of occurrences }\"\"\"\n",
    "    counts = {}\n",
    "    for key in input_list:\n",
    "        if key in counts:\n",
    "            counts[key] += 1\n",
    "        else:\n",
    "            counts[key] = 1\n",
    "    return counts\n",
    "\n",
    "date_counts = death_counts(dates)\n",
    "year_counts = death_counts(years)\n",
    "month_counts = death_counts(months)\n",
    "intent_counts = death_counts(intents)\n",
    "police_counts = death_counts(polices)\n",
    "sex_counts = death_counts(sexes)\n",
    "age_counts = death_counts(ages)\n",
    "race_counts = death_counts(races)\n",
    "hispanic_counts = death_counts(hispanics)\n",
    "place_counts = death_counts(places)\n",
    "education_counts = death_counts(educations)\n",
    "\n",
    "print(year_counts)\n",
    "print(month_counts)\n",
    "print(intent_counts)\n",
    "print(sex_counts)\n",
    "print(age_counts)\n",
    "print(race_counts)"
   ]
  },
  {
   "cell_type": "code",
   "execution_count": 37,
   "metadata": {
    "collapsed": false
   },
   "outputs": [
    {
     "name": "stdout",
     "output_type": "stream",
     "text": [
      "[['Id', 'Year', 'Id', 'Sex', 'Id', 'Hispanic Origin', 'Id', 'Id2', 'Geography', 'Total', 'Race Alone - White', 'Race Alone - Hispanic', 'Race Alone - Black or African American', 'Race Alone - American Indian and Alaska Native', 'Race Alone - Asian', 'Race Alone - Native Hawaiian and Other Pacific Islander', 'Two or More Races'], ['cen42010', 'April 1, 2010 Census', 'totsex', 'Both Sexes', 'tothisp', 'Total', '0100000US', '', 'United States', '308745538', '197318956', '44618105', '40250635', '3739506', '15159516', '674625', '6984195']]\n"
     ]
    }
   ],
   "source": [
    "import csv\n",
    "\n",
    "census = list(csv.reader(open('census.csv')))\n",
    "print(census)"
   ]
  },
  {
   "cell_type": "code",
   "execution_count": 38,
   "metadata": {
    "collapsed": false
   },
   "outputs": [
    {
     "name": "stdout",
     "output_type": "stream",
     "text": [
      "{'White': 33.56849303419181, 'Asian/Pacific Islander': 8.374309664161762, 'Black': 57.8773477735196, 'Native American/Native Alaskan': 24.521955573811088, 'Hispanic': 20.220491210910907}\n"
     ]
    }
   ],
   "source": [
    "mapping = {}\n",
    "mapping['Asian/Pacific Islander'] = int(census[1][14]) + int(census[1][15])\n",
    "mapping['Black'] = int(census[1][12])\n",
    "mapping['Hispanic'] = int(census[1][11])\n",
    "mapping['Native American/Native Alaskan'] = int(census[1][13])\n",
    "mapping['White'] = int(census[1][10])\n",
    "\n",
    "def per_hundredk(race_dict):\n",
    "    \"\"\" input = dictionary with { race : number of deaths }\n",
    "        function divides by total population of race and multiplies by 100000\n",
    "        return = dictionary with { race : deaths per hundredk }\"\"\"\n",
    "    race_per_hundredk = {}\n",
    "    for race in race_dict:\n",
    "        race_per_hundredk[race] = race_dict[race] / mapping[race] * 100000\n",
    "    return race_per_hundredk\n",
    "\n",
    "race_per_hundredk = per_hundredk(race_counts)\n",
    "print(race_per_hundredk)"
   ]
  },
  {
   "cell_type": "code",
   "execution_count": 39,
   "metadata": {
    "collapsed": false
   },
   "outputs": [
    {
     "name": "stdout",
     "output_type": "stream",
     "text": [
      "{'White': 4.6356417981453335, 'Asian/Pacific Islander': 3.530346230970155, 'Black': 48.471284987180944, 'Native American/Native Alaskan': 8.717729026240365, 'Hispanic': 12.627161104219914}\n",
      "{'09': 2966, '12': 3191, '10': 2968, '01': 2829, '06': 3130, '05': 2976, '04': 2845, '11': 2919, '03': 2780, '08': 3125, '07': 3269, '02': 2178}\n",
      "{'M': 29803, 'F': 5373}\n",
      "{'Farm': 76, 'Home': 13613, 'Street': 8867, 'Trade/service area': 1663, 'Sports': 22, 'NA': 1383, 'Industrial/construction': 85, 'Other unspecified': 3604, 'Other specified': 5429, 'Residential institution': 73, 'School/instiution': 361}\n",
      "{'White': 28.06217969245692, 'Asian/Pacific Islander': 4.705023152187416, 'Black': 8.278130270491385, 'Native American/Native Alaskan': 14.841532544673013, 'Hispanic': 7.106980451097149}\n",
      "{'02': 4732, '12': 4983, '10': 5256, '01': 5220, '06': 5367, '05': 5506, '04': 5438, '11': 5086, '03': 5309, '08': 5421, '07': 5514, '09': 5343}\n",
      "{'M': 54486, 'F': 8689}\n",
      "{'Sports': 98, 'Farm': 378, 'Home': 45415, 'Street': 2181, 'Trade/service area': 1723, 'Industrial/construction': 155, 'Other unspecified': 4774, 'Other specified': 8031, 'Residential institution': 125, 'School/instiution': 295}\n"
     ]
    }
   ],
   "source": [
    "def counts_by_key(key_list,count_list,tag):\n",
    "    \"\"\" input = list, list, string in count_list\n",
    "        function counts how many times each unique key occurs in the list\n",
    "        return = dictionary with { key : number of counts with tag }\"\"\"\n",
    "    counts = {}\n",
    "    for i, key in enumerate(key_list):\n",
    "        if count_list[i] == tag:\n",
    "            if key in counts:\n",
    "                counts[key] += 1\n",
    "            else:\n",
    "                counts[key] = 1\n",
    "    return counts\n",
    "\n",
    "homicide_race_counts = counts_by_key(races,intents,'Homicide')\n",
    "homicide_race_counts_per_hundredk = per_hundredk(homicide_race_counts)\n",
    "print(homicide_race_counts_per_hundredk)\n",
    "\n",
    "homicide_year_counts = counts_by_key(years,intents,'Homicide')\n",
    "homicide_month_counts = counts_by_key(months,intents,'Homicide')\n",
    "homicide_sex_counts = counts_by_key(sexes,intents,'Homicide')\n",
    "homicide_age_counts = counts_by_key(ages,intents,'Homicide')\n",
    "homicide_place_counts = counts_by_key(places,intents,'Homicide')\n",
    "homicide_education_counts = counts_by_key(educations,intents,'Homicide')\n",
    "\n",
    "print(homicide_month_counts)\n",
    "print(homicide_sex_counts)\n",
    "print(homicide_place_counts)\n",
    "\n",
    "suicide_race_counts = counts_by_key(races,intents,'Suicide')\n",
    "suicide_race_counts_per_hundredk = per_hundredk(suicide_race_counts)\n",
    "print(suicide_race_counts_per_hundredk)\n",
    "\n",
    "suicide_year_counts = counts_by_key(years,intents,'Suicide')\n",
    "suicide_month_counts = counts_by_key(months,intents,'Suicide')\n",
    "suicide_sex_counts = counts_by_key(sexes,intents,'Suicide')\n",
    "suicide_age_counts = counts_by_key(ages,intents,'Suicide')\n",
    "suicide_place_counts = counts_by_key(places,intents,'Suicide')\n",
    "suicide_education_counts = counts_by_key(educations,intents,'Suicide')\n",
    "\n",
    "print(suicide_month_counts)\n",
    "print(suicide_sex_counts)\n",
    "print(suicide_place_counts)"
   ]
  },
  {
   "cell_type": "markdown",
   "metadata": {},
   "source": [
    "# Conclusions\n",
    "\n",
    "Gun death rates are lowest in February and highest in July. Men are 6 times more likely to die by a gun than women. Suicide gun deaths are almost 2 times more common than homicide gun deaths. The highest gun death rates are for people aged 19 to 27. Asian/Pacific Islanders are least likely to die from a gun death.\n",
    "\n",
    "Whites are 6 times more likely to die from a gun by suicide than by homicide, while blacks are almost 6 times more likely to die by a gun from homicide rather than suicide."
   ]
  }
 ],
 "metadata": {
  "kernelspec": {
   "display_name": "Python 3",
   "language": "python",
   "name": "python3"
  },
  "language_info": {
   "codemirror_mode": {
    "name": "ipython",
    "version": 3
   },
   "file_extension": ".py",
   "mimetype": "text/x-python",
   "name": "python",
   "nbconvert_exporter": "python",
   "pygments_lexer": "ipython3",
   "version": "3.4.3"
  }
 },
 "nbformat": 4,
 "nbformat_minor": 0
}
