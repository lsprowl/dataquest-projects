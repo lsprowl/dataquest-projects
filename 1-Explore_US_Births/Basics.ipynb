{
 "cells": [
  {
   "cell_type": "code",
   "execution_count": 2,
   "metadata": {
    "collapsed": false
   },
   "outputs": [
    {
     "name": "stdout",
     "output_type": "stream",
     "text": [
      "['year,month,date_of_month,day_of_week,births', '1994,1,1,6,8096', '1994,1,2,7,7772', '1994,1,3,1,10142', '1994,1,4,2,11248', '1994,1,5,3,11053', '1994,1,6,4,11406', '1994,1,7,5,11251', '1994,1,8,6,8653', '1994,1,9,7,7910']\n"
     ]
    }
   ],
   "source": [
    "data = open('US_births_1994-2003_CDC_NCHS.csv','r').read().split('\\n')\n",
    "print(data[:10])"
   ]
  },
  {
   "cell_type": "code",
   "execution_count": 3,
   "metadata": {
    "collapsed": false
   },
   "outputs": [
    {
     "name": "stdout",
     "output_type": "stream",
     "text": [
      "[[1994, 1, 1, 6, 8096], [1994, 1, 2, 7, 7772], [1994, 1, 3, 1, 10142], [1994, 1, 4, 2, 11248], [1994, 1, 5, 3, 11053], [1994, 1, 6, 4, 11406], [1994, 1, 7, 5, 11251], [1994, 1, 8, 6, 8653], [1994, 1, 9, 7, 7910], [1994, 1, 10, 1, 10498]]\n"
     ]
    }
   ],
   "source": [
    "def read_csv(csv_file):\n",
    "    \"\"\" input = string name of csv file\n",
    "        function reads csv file, deletes header row, converts each row to a list\n",
    "        return = list of lists with [year,month,date,day,births] integer data \"\"\"\n",
    "    string_list = open(csv_file,'r').read().split('\\n')[1:]\n",
    "    final_list = []\n",
    "    for row in string_list:\n",
    "        int_fields = []\n",
    "        string_fields = row.split(',')\n",
    "        for item in string_fields:\n",
    "            int_fields.append(int(item))\n",
    "        final_list.append(int_fields)\n",
    "    return final_list\n",
    "cdc_list = read_csv('US_births_1994-2003_CDC_NCHS.csv')\n",
    "print(cdc_list[:10])"
   ]
  },
  {
   "cell_type": "code",
   "execution_count": 4,
   "metadata": {
    "collapsed": false
   },
   "outputs": [
    {
     "name": "stdout",
     "output_type": "stream",
     "text": [
      "{1: 3232517, 2: 3018140, 3: 3322069, 4: 3185314, 5: 3350907, 6: 3296530, 7: 3498783, 8: 3525858, 9: 3439698, 10: 3378814, 11: 3171647, 12: 3301860}\n"
     ]
    }
   ],
   "source": [
    "def month_births(input_lst):\n",
    "    \"\"\" input = list of lists of integers with [[year,month,date,day,births]]\n",
    "        function sums number of births per each month\n",
    "        return = dictionary with { month keys : number of births } \"\"\"\n",
    "    births_per_month = {}\n",
    "    for row in input_lst:\n",
    "        month = row[1]\n",
    "        birth = row[4]\n",
    "        if month in births_per_month:\n",
    "            births_per_month[month] += birth\n",
    "        else:\n",
    "            births_per_month[month] = birth\n",
    "    return births_per_month\n",
    "cdc_month_births = month_births(cdc_list)\n",
    "print(cdc_month_births)"
   ]
  },
  {
   "cell_type": "code",
   "execution_count": 5,
   "metadata": {
    "collapsed": false
   },
   "outputs": [
    {
     "name": "stdout",
     "output_type": "stream",
     "text": [
      "{1: 5789166, 2: 6446196, 3: 6322855, 4: 6288429, 5: 6233657, 6: 4562111, 7: 4079723}\n"
     ]
    }
   ],
   "source": [
    "def dow_births(input_lst):\n",
    "    \"\"\" input = list of lists of integers with [[year,month,date,day,births]]\n",
    "        function sums number of births per each day of the week\n",
    "        return = dictionary with { day of week keys : number of births } \"\"\"\n",
    "    births_per_dow = {}\n",
    "    for row in input_lst:\n",
    "        dow = row[3]\n",
    "        birth = row[4]\n",
    "        if dow in births_per_dow:\n",
    "            births_per_dow[dow] += birth\n",
    "        else:\n",
    "            births_per_dow[dow] = birth\n",
    "    return births_per_dow\n",
    "cdc_day_births = dow_births(cdc_list)\n",
    "print(cdc_day_births)"
   ]
  },
  {
   "cell_type": "code",
   "execution_count": 6,
   "metadata": {
    "collapsed": false
   },
   "outputs": [
    {
     "name": "stdout",
     "output_type": "stream",
     "text": [
      "{2000: 4058814, 2001: 4025933, 2002: 4021726, 2003: 4089950, 1994: 3952767, 1995: 3899589, 1996: 3891494, 1997: 3880894, 1998: 3941553, 1999: 3959417}\n"
     ]
    }
   ],
   "source": [
    "def calc_counts(data,column):\n",
    "    \"\"\" input = list of lists of integers with [[year,month,date,day,births]],\n",
    "            column number\n",
    "        function sums number of births per each input column number\n",
    "        return = dictionary with { input column keys : number of births } \"\"\"\n",
    "    births_per_calc = {}\n",
    "    for row in data:\n",
    "        calc = row[column]\n",
    "        birth = row[4]\n",
    "        if calc in births_per_calc:\n",
    "            births_per_calc[calc] += birth\n",
    "        else:\n",
    "            births_per_calc[calc] = birth\n",
    "    return births_per_calc\n",
    "cdc_year_births = calc_counts(cdc_list,0)\n",
    "cdc_month_births = calc_counts(cdc_list,1)\n",
    "cdc_dom_births = calc_counts(cdc_list,2)\n",
    "cdc_dow_births = calc_counts(cdc_list,3)\n",
    "print(cdc_year_births)"
   ]
  },
  {
   "cell_type": "code",
   "execution_count": 7,
   "metadata": {
    "collapsed": false
   },
   "outputs": [
    {
     "name": "stdout",
     "output_type": "stream",
     "text": [
      "1997 2003\n"
     ]
    }
   ],
   "source": [
    "def get_extrema(data_dict):\n",
    "    \"\"\" input = dictionary with {key : number of birth values}\n",
    "        function determines keys for minimum and maximum number of births\n",
    "        return = minimum key, maximum key \"\"\"\n",
    "    values = list(data_dict.values())\n",
    "    keys = list(data_dict.keys())\n",
    "    min_key = keys[values.index(min(values))]\n",
    "    max_key = keys[values.index(max(values))]\n",
    "    return min_key, max_key\n",
    "min_year,max_year = get_extrema(cdc_year_births)\n",
    "min_month,max_month = get_extrema(cdc_month_births)\n",
    "min_dom,max_dom = get_extrema(cdc_dom_births)\n",
    "min_dow,max_dow = get_extrema(cdc_dow_births)\n",
    "print(min_year,max_year)"
   ]
  },
  {
   "cell_type": "code",
   "execution_count": 1,
   "metadata": {
    "collapsed": false
   },
   "outputs": [
    {
     "ename": "NameError",
     "evalue": "name 'cdc_list' is not defined",
     "output_type": "error",
     "traceback": [
      "\u001b[1;31m\u001b[0m",
      "\u001b[1;31mNameError\u001b[0mTraceback (most recent call last)",
      "\u001b[1;32m<ipython-input-1-f8e14cededc2>\u001b[0m in \u001b[0;36m<module>\u001b[1;34m()\u001b[0m\n\u001b[0;32m     15\u001b[0m                 \u001b[0mbirths_per_year\u001b[0m\u001b[1;33m[\u001b[0m\u001b[0myear\u001b[0m\u001b[1;33m]\u001b[0m \u001b[1;33m=\u001b[0m \u001b[0mbirths\u001b[0m\u001b[1;33m\u001b[0m\u001b[0m\n\u001b[0;32m     16\u001b[0m     \u001b[1;32mreturn\u001b[0m \u001b[0mbirths_per_year\u001b[0m\u001b[1;33m\u001b[0m\u001b[0m\n\u001b[1;32m---> 17\u001b[1;33m \u001b[0mcdc_saturday_births_per_year\u001b[0m \u001b[1;33m=\u001b[0m \u001b[0mcompare_years\u001b[0m\u001b[1;33m(\u001b[0m\u001b[0mcdc_list\u001b[0m\u001b[1;33m,\u001b[0m\u001b[1;36m3\u001b[0m\u001b[1;33m,\u001b[0m\u001b[1;36m6\u001b[0m\u001b[1;33m)\u001b[0m\u001b[1;33m\u001b[0m\u001b[0m\n\u001b[0m\u001b[0;32m     18\u001b[0m \u001b[0mcdc_april_births_per_year\u001b[0m \u001b[1;33m=\u001b[0m \u001b[0mcompare_years\u001b[0m\u001b[1;33m(\u001b[0m\u001b[0mcdc_list\u001b[0m\u001b[1;33m,\u001b[0m\u001b[1;36m1\u001b[0m\u001b[1;33m,\u001b[0m\u001b[1;36m4\u001b[0m\u001b[1;33m)\u001b[0m\u001b[1;33m\u001b[0m\u001b[0m\n\u001b[0;32m     19\u001b[0m \u001b[0mprint\u001b[0m\u001b[1;33m(\u001b[0m\u001b[0mcdc_saturday_births_per_year\u001b[0m\u001b[1;33m)\u001b[0m\u001b[1;33m\u001b[0m\u001b[0m\n",
      "\u001b[1;31mNameError\u001b[0m: name 'cdc_list' is not defined"
     ]
    }
   ],
   "source": [
    "def compare_years(data,column,sub_column):\n",
    "    \"\"\" input = list of lists of integers with [[year,month,date,day,births]],\n",
    "            column number, key value within the column\n",
    "        function sums number of births per input column key value for each year\n",
    "        return = dictionary with { year : number of births per column key } \"\"\"\n",
    "    births_per_year = {}\n",
    "    for row in data:\n",
    "        year = row[0]\n",
    "        calc = row[column]\n",
    "        births = row[4]\n",
    "        if calc == sub_column:\n",
    "            if year in births_per_year:\n",
    "                births_per_year[year] += births\n",
    "            else:\n",
    "                births_per_year[year] = births\n",
    "    return births_per_year\n",
    "cdc_saturday_births_per_year = compare_years(cdc_list,3,6)\n",
    "cdc_april_births_per_year = compare_years(cdc_list,1,4)\n",
    "print(cdc_saturday_births_per_year)"
   ]
  },
  {
   "cell_type": "code",
   "execution_count": null,
   "metadata": {
    "collapsed": true
   },
   "outputs": [],
   "source": []
  }
 ],
 "metadata": {
  "anaconda-cloud": {},
  "kernelspec": {
   "display_name": "Python 3",
   "language": "python",
   "name": "python3"
  },
  "language_info": {
   "codemirror_mode": {
    "name": "ipython",
    "version": 3
   },
   "file_extension": ".py",
   "mimetype": "text/x-python",
   "name": "python",
   "nbconvert_exporter": "python",
   "pygments_lexer": "ipython3",
   "version": "3.4.3"
  }
 },
 "nbformat": 4,
 "nbformat_minor": 1
}
